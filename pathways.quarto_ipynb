{
  "cells": [
    {
      "cell_type": "markdown",
      "metadata": {},
      "source": [
        "---\n",
        "title: \"Pathways\"\n",
        "---\n",
        "\n",
        "\n",
        "\n",
        "\n",
        "About this site\n",
        "\n",
        "\n",
        "\n",
        "\n",
        "```{matlab}\n",
        "1 + 5\n",
        "```"
      ],
      "id": "c108e241"
    }
  ],
  "metadata": {
    "kernelspec": {
      "display_name": "Python 3",
      "language": "python",
      "name": "python3"
    }
  },
  "nbformat": 4,
  "nbformat_minor": 5
}